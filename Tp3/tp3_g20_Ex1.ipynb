{
 "cells": [
  {
   "cell_type": "markdown",
   "metadata": {},
   "source": [
    "# Lógica Computacional\n",
    "#### Grupo 20\n",
    "* Francisco Domingos Martins Oliveira,  A82066\n",
    "* José Luís Cerqueira Pires, A84552"
   ]
  },
  {
   "cell_type": "markdown",
   "metadata": {},
   "source": [
    "## Trabalho Prático 1 - Exercício 1\n"
   ]
  },
  {
   "cell_type": "markdown",
   "metadata": {},
   "source": [
    "Neste exercício, nós decidimos representar o estado do FOTS respectivo com quatro inteiros, contendo o valor do $\\mathit{s}$ de cada $inversor$ (0 ou 1) e uma constante contendo o valor do $modo$ em que o estado se encontra $(INIT,WHILE,STOP)$. O estado inicial é caracterizado pelo seguinte predicado:\n",
    "\n",
    "$$\n",
    "(\\mathit{S_A} = 0 \\lor \\mathit{S_A} = 1) \\wedge (\\mathit{S_B} = 0 \\lor \\mathit{S_B} = 1) \\wedge (\\mathit{S_D} = 0 \\lor \\mathit{S_D} = 1) \\wedge (\\mathit{S_C} = 0 \\lor \\mathit{S_C} = 1) \\wedge modo = INIT\n",
    "$$\n",
    "\n",
    "As transições possíveis no FOTS são caracterizadas pelo seguinte predicado:\n",
    "\n",
    "$$\n",
    "\\begin{array}{c}\n",
    "(\\mathit{modo} = INIT \\wedge (\\mathit{S_A}+\\mathit{S_B}+\\mathit{S_D}+\\mathit{S_C} > 0) \\wedge \\mathit{modo}' = WHILE \\wedge (\\mathit{S_A}' = \\mathit{S_A} \\lor \\mathit{S_A}' = 1 - \\mathit{S_C}) \\wedge (\\mathit{S_B}' = \\mathit{S_B} \\lor \\mathit{S_B}' = 1 - \\mathit{S_A}) \\wedge (\\mathit{S_D}' = \\mathit{S_D} \\lor \\mathit{S_D}' = 1 - \\mathit{S_B}) \\wedge (\\mathit{S_C}' = \\mathit{S_C} \\lor \\mathit{S_C}' = 1 - \\mathit{S_D}))\\\\\n",
    "\\vee\\\\\n",
    "(\\mathit{modo} = INIT \\wedge (\\mathit{S_A}+\\mathit{S_B}+\\mathit{S_D}+\\mathit{S_C} = 0) \\wedge \\mathit{modo}' = STOP \\wedge \\mathit{S_A}' = \\mathit{S_A} \\wedge \\mathit{S_B}' = \\mathit{S_B} \\wedge \\mathit{S_D}' = \\mathit{S_D} \\wedge \\mathit{S_C}' = \\mathit{S_C})\\\\\n",
    "\\vee\\\\\n",
    "(\\mathit{modo} = WHILE \\wedge (\\mathit{S_A}+\\mathit{S_B}+\\mathit{S_D}+\\mathit{S_C} > 0) \\wedge \\mathit{modo}' = WHILE \\wedge (\\mathit{S_A}' = \\mathit{S_A} \\lor \\mathit{S_A}' = 1 - \\mathit{S_C}) \\wedge (\\mathit{S_B}' = \\mathit{S_B} \\lor \\mathit{S_B}' = 1 - \\mathit{S_A}) \\wedge (\\mathit{S_D}' = \\mathit{S_D} \\lor \\mathit{S_D}' = 1 - \\mathit{S_B}) \\wedge (\\mathit{S_C}' = \\mathit{S_C} \\lor \\mathit{S_C}' = 1 - \\mathit{S_D}))\\\\\n",
    "\\vee\\\\\n",
    "(\\mathit{modo} = WHILE \\wedge (\\mathit{S_A}+\\mathit{S_B}+\\mathit{S_D}+\\mathit{S_C} = 0) \\wedge \\mathit{modo}' = STOP \\wedge \\mathit{S_A}' = \\mathit{S_A} \\wedge \\mathit{S_B}' = \\mathit{S_B} \\wedge \\mathit{S_D}' = \\mathit{S_D} \\wedge \\mathit{S_C}' = \\mathit{S_C})\\\\\n",
    "\\vee\\\\\n",
    "(\\mathit{modo} = STOP \\wedge \\mathit{modo}' = STOP \\wedge \\mathit{S_A}' = \\mathit{S_A} \\wedge \\mathit{S_B}' = \\mathit{S_B} \\wedge \\mathit{S_D}' = \\mathit{S_D} \\wedge \\mathit{S_C}' = \\mathit{S_C})\\\\\n",
    "\\end{array}\n",
    "$$"
   ]
  },
  {
   "cell_type": "markdown",
   "metadata": {},
   "source": [
    "Note-se que este predicado é uma disjunção de todas as possíveis transições que podem ocorrer no programa. Cada transição é caracterizada por um predicado onde uma variável do programa denota o seu valor no pré-estado e a mesma variável com apóstrofe denota o seu valor no pós-estado.\n",
    "\n",
    "Usando estes predicados podemos usar um SMT solver (nomeadamente o Z3) para, por exemplo, gerar uma possível execução de $k\\!-\\!1$ passos do programa (em que $k>0$). Para tal precisamos de criar $k$ cópias das variáveis que caracterizam o estado do FOTS e depois impor que a primeira cópia satisfaz o predicado inicial e que cada par de cópias consecutivas satisfazem o predicado de transição."
   ]
  },
  {
   "cell_type": "markdown",
   "metadata": {},
   "source": [
    "A seguinte função cria a $i$-ésima cópia das variáveis de estado, agrupadas num dicionário que nos permite aceder às mesmas pelo nome."
   ]
  },
  {
   "cell_type": "code",
   "execution_count": 16,
   "metadata": {},
   "outputs": [],
   "source": [
    "from z3 import *\n",
    "\n",
    "Mode, (INIT,WHILE,STOP) = EnumSort('Mode', ('INIT','WHILE','STOP'))\n",
    "\n",
    "def declare(i):    \n",
    "    state = {}\n",
    "    state['modo'] = Const('modo'+str(i),Mode)\n",
    "    state['A'] = Int('A_'+str(i))\n",
    "    state['B'] = Int('B_'+str(i))\n",
    "    state['D'] = Int('D_'+str(i))\n",
    "    state['C'] = Int('C_'+str(i))\n",
    "    return state\n",
    "\n",
    "#declare(2)"
   ]
  },
  {
   "cell_type": "markdown",
   "metadata": {},
   "source": [
    "A função `init`, dado um possível estado do programa (um dicionário de variáveis), devolva um predicado Z3 que testa se esse estado é um possível estado inicial do programa."
   ]
  },
  {
   "cell_type": "code",
   "execution_count": 17,
   "metadata": {},
   "outputs": [],
   "source": [
    "def init(state):\n",
    "    r = []\n",
    "    r.append(state['modo']==INIT)\n",
    "    r.append(Or(state['A']==1,state['A']==0))\n",
    "    r.append(Or(state['B']==1,state['B']==0))\n",
    "    r.append(Or(state['D']==1,state['D']==0))\n",
    "    r.append(Or(state['C']==1,state['C']==0))\n",
    "    return(And(r))\n",
    "\n",
    "#init(declare(0))"
   ]
  },
  {
   "cell_type": "markdown",
   "metadata": {},
   "source": [
    "Aa função `trans`, dados dois possíveis estados do programa, devolva um predicado Z3 que testa se é possível transitar do primeiro para o segundo."
   ]
  },
  {
   "cell_type": "code",
   "execution_count": 22,
   "metadata": {},
   "outputs": [],
   "source": [
    "def trans(curr,prox):\n",
    "    r=[]\n",
    "    initwhile = And(curr['modo']==INIT,prox['modo']==WHILE,(curr['A']+curr['B']+curr['D']+curr['C'])>0,Or(prox['A']==curr['A'],prox['A']==1-curr['C']),\n",
    "                    Or(prox['B']==curr['B'],prox['B']==1-curr['A']),Or(prox['D']==curr['D'],prox['D']==1-curr['B']),Or(prox['C']==curr['C'],prox['C']==1-curr['D']))\n",
    "    \n",
    "    initstop = And(curr['modo']==INIT,prox['modo']==STOP,(curr['A']+curr['B']+curr['D']+curr['C'])==0,prox['A']==curr['A'],prox['B']==curr['B'],prox['D']==curr['D'],prox['C']==curr['C'])\n",
    "    \n",
    "    whilewhile = And(curr['modo']==WHILE,prox['modo']==WHILE,(curr['A']+curr['B']+curr['D']+curr['C']>0),Or(prox['A']==curr['A'],prox['A']==1-curr['C']),\n",
    "                     Or(prox['B']==curr['B'],prox['B']==1-curr['A']), Or(prox['D']==curr['D'],prox['D']==1-curr['B']), Or(prox['C']==curr['C'],prox['C']==1-curr['D']))\n",
    "    \n",
    "    whilestop = And(curr['modo']==WHILE,prox['modo']==STOP,(curr['A']+curr['B']+curr['D']+curr['C'])==0,prox['A']==curr['A'],prox['B']==curr['B'],prox['D']==curr['D'],prox['C']==curr['C'])\n",
    "    \n",
    "    stopstop = And(curr['modo']==STOP,prox['modo']==STOP,prox['A']==curr['A'],prox['B']==curr['B'],prox['D']==curr['D'],prox['C']==curr['C'])\n",
    "    \n",
    "    r.append(initwhile)\n",
    "    r.append(initstop)\n",
    "    r.append(whilewhile)\n",
    "    r.append(whilestop)\n",
    "    r.append(stopstop)\n",
    "        \n",
    "    return Or(r)\n",
    "\n",
    "#trans(declare(0),declare(1))"
   ]
  },
  {
   "cell_type": "markdown",
   "metadata": {},
   "source": [
    "A função de ordem superior `gera_traco`, dada uma função que gera uma cópia das variáveis do estado, um predicado que testa se um estado é inicial, um predicado que testa se um par de estados é uma transição válida, e um número positivo `k`, usa o Z3 para gerar um possível traço de execução do programa de tamanho `k`. Para cada estado do traço imprime o respectivo valor das variáveis."
   ]
  },
  {
   "cell_type": "code",
   "execution_count": 30,
   "metadata": {},
   "outputs": [
    {
     "name": "stdout",
     "output_type": "stream",
     "text": [
      "0\n",
      "modo = INIT\n",
      "s_A = 1\n",
      "s_B = 1\n",
      "s_D = 1\n",
      "s_C = 1\n",
      "1\n",
      "modo = WHILE\n",
      "s_A = 1\n",
      "s_B = 1\n",
      "s_D = 1\n",
      "s_C = 1\n",
      "2\n",
      "modo = WHILE\n",
      "s_A = 0\n",
      "s_B = 0\n",
      "s_D = 0\n",
      "s_C = 0\n",
      "3\n",
      "modo = STOP\n",
      "s_A = 0\n",
      "s_B = 0\n",
      "s_D = 0\n",
      "s_C = 0\n",
      "---------\n",
      "0\n",
      "modo = INIT\n",
      "s_A = 1\n",
      "s_B = 1\n",
      "s_D = 0\n",
      "s_C = 0\n",
      "1\n",
      "modo = WHILE\n",
      "s_A = 1\n",
      "s_B = 1\n",
      "s_D = 0\n",
      "s_C = 0\n",
      "2\n",
      "modo = WHILE\n",
      "s_A = 1\n",
      "s_B = 0\n",
      "s_D = 0\n",
      "s_C = 1\n",
      "3\n",
      "modo = WHILE\n",
      "s_A = 0\n",
      "s_B = 0\n",
      "s_D = 0\n",
      "s_C = 1\n",
      "4\n",
      "modo = WHILE\n",
      "s_A = 0\n",
      "s_B = 0\n",
      "s_D = 1\n",
      "s_C = 1\n",
      "---------\n",
      "0\n",
      "modo = INIT\n",
      "s_A = 1\n",
      "s_B = 0\n",
      "s_D = 0\n",
      "s_C = 0\n",
      "1\n",
      "modo = WHILE\n",
      "s_A = 1\n",
      "s_B = 0\n",
      "s_D = 0\n",
      "s_C = 0\n",
      "2\n",
      "modo = WHILE\n",
      "s_A = 1\n",
      "s_B = 0\n",
      "s_D = 0\n",
      "s_C = 0\n",
      "3\n",
      "modo = WHILE\n",
      "s_A = 1\n",
      "s_B = 0\n",
      "s_D = 0\n",
      "s_C = 0\n",
      "4\n",
      "modo = WHILE\n",
      "s_A = 1\n",
      "s_B = 0\n",
      "s_D = 0\n",
      "s_C = 1\n",
      "5\n",
      "modo = WHILE\n",
      "s_A = 0\n",
      "s_B = 0\n",
      "s_D = 1\n",
      "s_C = 1\n",
      "6\n",
      "modo = WHILE\n",
      "s_A = 0\n",
      "s_B = 1\n",
      "s_D = 1\n",
      "s_C = 0\n",
      "7\n",
      "modo = WHILE\n",
      "s_A = 0\n",
      "s_B = 1\n",
      "s_D = 1\n",
      "s_C = 0\n",
      "8\n",
      "modo = WHILE\n",
      "s_A = 0\n",
      "s_B = 1\n",
      "s_D = 0\n",
      "s_C = 0\n",
      "9\n",
      "modo = WHILE\n",
      "s_A = 1\n",
      "s_B = 1\n",
      "s_D = 0\n",
      "s_C = 1\n"
     ]
    }
   ],
   "source": [
    "def gera_traco(declare,init,trans,k):\n",
    "    s = Solver()\n",
    "    # completar\n",
    "    trace = [declare(i) for i in range(k)]\n",
    "    #print(trace)\n",
    "    s.add(init(trace[0]))\n",
    "    \n",
    "    for i in range(k-1):\n",
    "        s.add(trans(trace[i],trace[i+1]))\n",
    "    #print(s)\n",
    "    \n",
    "    if s.check()==sat:\n",
    "        m=s.model()\n",
    "        #print(m)\n",
    "        for i in range(k):\n",
    "            print(i)\n",
    "            print('modo '+'=',m[trace[i]['modo']])\n",
    "            print('s_A '+'=',m[trace[i]['A']])\n",
    "            print('s_B '+'=',m[trace[i]['B']])\n",
    "            print('s_D '+'=',m[trace[i]['D']])\n",
    "            print('s_C '+'=',m[trace[i]['C']])\n",
    "                \n",
    "gera_traco(declare,init,trans,4)\n",
    "print('---------')\n",
    "gera_traco(declare,init,trans,5)\n",
    "print('---------')\n",
    "gera_traco(declare,init,trans,10)"
   ]
  },
  {
   "cell_type": "markdown",
   "metadata": {},
   "source": [
    "Sobre este FOTS podemos querer verificar várias propriedades temporais, como por exemplo:\n",
    "1. $S_A \\wedge S_B \\wedge S_D \\wedge S_C$ são sempre superior ou igual a zero\n",
    "2. $S_A+S_B+S_D+S_C$ é sempre superior a 0\n",
    "3. $S_A+S_B+S_D+S_C$ é sempre inferior ou igual a 4\n",
    "4. $S_A \\wedge S_B \\wedge S_D \\wedge S_C$ chegam inevitavelmente a 0\n",
    "5. O programa termina"
   ]
  },
  {
   "cell_type": "markdown",
   "metadata": {},
   "source": [
    "A lógica LTL introduz *operadores temporais* que nos permitem escrever estas propriedades formalmente. Os operadores mais conhecidos são o $G$, que informalmente significa \"*é sempre verdade que*\", e o $F$, que informalmente significa \"*é inevitável que*\". Com estes operadores, as propriedades acima podem ser especificadas formalmente do seguinte modo\n",
    "1. $G\\ (S_A \\ge 0 \\wedge S_B \\ge 0 \\wedge S_D \\ge 0 \\wedge S_C \\ge 0)$\n",
    "2. $G\\ (S_A + S_B + S_D + S_C > 0)$\n",
    "2. $G\\ (S_A + S_B + S_D + S_C \\le 4)$\n",
    "3. $F\\ (S_A = 0 \\wedge S_B = 0 \\wedge S_D = 0 \\wedge S_C = 0)$\n",
    "4. $F\\ (modo = STOP)$"
   ]
  },
  {
   "cell_type": "markdown",
   "metadata": {},
   "source": [
    "A função de ordem superior `bmc_always`, dada uma função que gera uma cópia das variáveis do estado, um predicado que testa se um estado é inicial, um predicado, que testa se um par de estados é uma transição válida, um invariante a verificar, e um número positivo `K`, usa o Z3 para verificar se esse invariante é sempre válido nos primeiros `K-1` passos de execução do programa, ou devolva um contra-exemplo mínimo caso não seja."
   ]
  },
  {
   "cell_type": "code",
   "execution_count": 53,
   "metadata": {},
   "outputs": [
    {
     "name": "stdout",
     "output_type": "stream",
     "text": [
      "Verificação da propriedade 1:\n",
      "Property is valid up to traces of length 10\n",
      "--------\n",
      "Verificação da propriedade 2:\n",
      "0\n",
      "modo = INIT\n",
      "s_A = 0\n",
      "s_B = 0\n",
      "s_D = 0\n",
      "s_C = 0\n",
      "--------\n",
      "Verificação da propriedade 3:\n",
      "0\n",
      "modo = INIT\n",
      "s_A = 1\n",
      "s_B = 1\n",
      "s_D = 1\n",
      "s_C = 1\n"
     ]
    }
   ],
   "source": [
    "def bmc_always(declare,init,trans,inv,K):\n",
    "    for k in range(1,K+1):\n",
    "        s = Solver()\n",
    "        trace = [declare(i) for i in range(k)]\n",
    "    \n",
    "        s.add(init(trace[0]))\n",
    "    \n",
    "        for i in range(k-1):\n",
    "            s.add(trans(trace[i],trace[i+1]))\n",
    "            \n",
    "        s.add(Not(inv(trace[k-1])))\n",
    "        \n",
    "        if s.check()==sat:\n",
    "            m = s.model()\n",
    "            for i in range(k):\n",
    "                print(i)\n",
    "                print('modo '+'=',m[trace[i]['modo']])\n",
    "                print('s_A '+'=',m[trace[i]['A']])\n",
    "                print('s_B '+'=',m[trace[i]['B']])\n",
    "                print('s_D '+'=',m[trace[i]['D']])\n",
    "                print('s_C '+'=',m[trace[i]['C']])\n",
    "            return\n",
    "        # completar\n",
    "        \n",
    "    print (\"Property is valid up to traces of length \"+str(K))\n",
    "\n",
    "def positive(s):\n",
    "    return And(s['A']>=0,s['B']>=0,s['D']>=0,s['C']>=0)\n",
    "\n",
    "def great0(s):\n",
    "    return Sum([s[x] for x in ['A','B','D','C']])>0\n",
    "\n",
    "def less4(s):\n",
    "    return Sum([s[x] for x in ['A','B','D','C']])<=4\n",
    "\n",
    "\n",
    "print('Verificação da propriedade 1:')\n",
    "bmc_always(declare,init,trans,positive,10)\n",
    "print('--------')\n",
    "\n",
    "print('Verificação da propriedade 2:')\n",
    "bmc_always(declare,init,trans,great0,10)\n",
    "print('--------')\n",
    "\n",
    "print('Verificação da propriedade 3:')\n",
    "bmc_always(declare,init,trans,less4,10)"
   ]
  },
  {
   "cell_type": "markdown",
   "metadata": {},
   "source": [
    "Para fazer BMC de propriedades de animação da forma $F\\ \\phi$ usaremos a função de ordem superior `bmc_eventually` que, dada uma função que gera uma cópia das variáveis do estado, um predicado que testa se um estado é inicial, um predicado que testa se um par de estados é uma transição válida, uma propriedade cuja inevitabilidade se pretende verificar, e um número positivo `K`, usa o Z3 para encontrar um contra-exemplo para essa propriedade considerando apenas os primeiros `K` estados de execução do programa. Note que neste caso um contra-exemplo tem que ser necessariamente um *loop* onde a propriedade desejada nunca seja válida."
   ]
  },
  {
   "cell_type": "code",
   "execution_count": 55,
   "metadata": {},
   "outputs": [
    {
     "name": "stdout",
     "output_type": "stream",
     "text": [
      "Verificação da propriedade 4:\n",
      "0\n",
      "modo = INIT\n",
      "s_A = 0\n",
      "s_B = 0\n",
      "s_D = 1\n",
      "s_C = 0\n",
      "Loop starts here\n",
      "1\n",
      "modo = WHILE\n",
      "s_A = 1\n",
      "s_B = 0\n",
      "s_D = 1\n",
      "s_C = 0\n",
      "----------------------------\n",
      "Verificação da propriedade 5:\n",
      "0\n",
      "modo = INIT\n",
      "s_A = 1\n",
      "s_B = 1\n",
      "s_D = 0\n",
      "s_C = 0\n",
      "Loop starts here\n",
      "1\n",
      "modo = WHILE\n",
      "s_A = 1\n",
      "s_B = 0\n",
      "s_D = 0\n",
      "s_C = 1\n"
     ]
    }
   ],
   "source": [
    "def bmc_eventually(declare,init,trans,prop,bound):\n",
    "    for k in range(1,bound+1):\n",
    "        s = Solver()\n",
    "        \n",
    "        trace = [declare(i) for i in range(k)]\n",
    "        \n",
    "        s.add(init(trace[0]))\n",
    "        \n",
    "        for i in range(k-1):\n",
    "            s.add(trans(trace[i],trace[i+1]))\n",
    "        \n",
    "        s.add(Not(prop(trace[k-1])))\n",
    "        \n",
    "        s.add(Or([trans(trace[k-1],trace[i]) for i in range(k)]))\n",
    "        \n",
    "        if s.check()==sat:\n",
    "            m = s.model()\n",
    "            for i in range(k):\n",
    "                if(m.eval(trans(trace[k-1],trace[i]))):\n",
    "                    print(\"Loop starts here\")\n",
    "                print(i)\n",
    "                print('modo '+'=',m[trace[i]['modo']])\n",
    "                print('s_A '+'=',m[trace[i]['A']])\n",
    "                print('s_B '+'=',m[trace[i]['B']])\n",
    "                print('s_D '+'=',m[trace[i]['D']])\n",
    "                print('s_C '+'=',m[trace[i]['C']])\n",
    "            return\n",
    "        \n",
    "    print (\"Property is valid up to traces of length \"+str(bound))\n",
    "    \n",
    "def zero(state):\n",
    "    return (state['A']+state['B']+state['D']+state['C'] == 0)\n",
    "\n",
    "def terminates(state):\n",
    "    return (state['modo'] == STOP)\n",
    "\n",
    "print('Verificação da propriedade 4:')\n",
    "bmc_eventually(declare,init,trans,zero,10)\n",
    "print('----------------------------')\n",
    "\n",
    "print('Verificação da propriedade 5:')\n",
    "bmc_eventually(declare,init,trans,terminates,10)"
   ]
  },
  {
   "cell_type": "markdown",
   "metadata": {},
   "source": [
    "Como vimos acima, há casos em que o programa não termina. Por isso vamos calcular em que situações isso acontece."
   ]
  },
  {
   "cell_type": "code",
   "execution_count": 31,
   "metadata": {},
   "outputs": [
    {
     "name": "stdout",
     "output_type": "stream",
     "text": [
      "Estado de Init em que o programa tem solução: [INIT, 0, 0, 0, 0]\n",
      "Estado de Init em que o programa tem solução: [INIT, 1, 1, 1, 1]\n"
     ]
    }
   ],
   "source": [
    "def possible_states(declare, init, trans, k):\n",
    "    s = Solver()\n",
    "    trace = [declare(i) for i in range(k)]\n",
    "    s.add(init(trace[0]))\n",
    "    \n",
    "    for i in range(k-1):\n",
    "        s.add(trans(trace[i], trace[i+1]))\n",
    "    \n",
    "    s.add(trace[k-1]['modo']==STOP)\n",
    "    \n",
    "    while s.check() == sat:\n",
    "        m = s.model()\n",
    "        \n",
    "        outputs= []\n",
    "        for i in trace[0]:\n",
    "            outputs.append(m[trace[0][i]])\n",
    "        \n",
    "        print(f\"Estado de Init em que o programa tem solução: {outputs}\")\n",
    "        outputs.pop(0)\n",
    "    \n",
    "        s.add(And( (trace[0]['A'] != outputs[0]),(trace[0]['B'] != outputs[1]),(trace[0]['D'] != outputs[2]),(trace[0]['C'] != outputs[3])))\n",
    "        \n",
    "                \n",
    "    return\n",
    "\n",
    "\n",
    "possible_states(declare, init, trans, 42)"
   ]
  },
  {
   "cell_type": "markdown",
   "metadata": {},
   "source": [
    "O programa termina se o valor de $s$ de cada inversor começar a 0 ou a 1"
   ]
  },
  {
   "cell_type": "code",
   "execution_count": null,
   "metadata": {},
   "outputs": [],
   "source": []
  }
 ],
 "metadata": {
  "kernelspec": {
   "display_name": "Python 3",
   "language": "python",
   "name": "python3"
  },
  "language_info": {
   "codemirror_mode": {
    "name": "ipython",
    "version": 3
   },
   "file_extension": ".py",
   "mimetype": "text/x-python",
   "name": "python",
   "nbconvert_exporter": "python",
   "pygments_lexer": "ipython3",
   "version": "3.8.3"
  }
 },
 "nbformat": 4,
 "nbformat_minor": 4
}
