{
 "cells": [
  {
   "cell_type": "code",
   "execution_count": 1,
   "metadata": {},
   "outputs": [],
   "source": [
    "from z3 import *\n",
    "import random\n",
    "import math \n",
    "import numpy as np\n",
    "\n",
    "SLOW = 1\n",
    "FAST = 10\n",
    "SAFE_DIST = 100\n",
    "MAX_X_Y = 500\n",
    "MIN_X_Y = -500\n",
    "TEMPO = 1 # sec\n",
    "Mode, (M_SLOW, M_FAST) = EnumSort(\"Mode\", (\"SLOW\", \"FAST\"))"
   ]
  },
  {
   "cell_type": "code",
   "execution_count": 2,
   "metadata": {},
   "outputs": [
    {
     "data": {
      "text/plain": [
       "270"
      ]
     },
     "execution_count": 2,
     "metadata": {},
     "output_type": "execute_result"
    }
   ],
   "source": [
    "def ranAng():\n",
    "    ang = [i*15 for i in range(int(360/15))]\n",
    "    np.random.shuffle(ang)\n",
    "    c=ang[0]\n",
    "    \n",
    "    return c\n",
    "ranAng()"
   ]
  },
  {
   "cell_type": "code",
   "execution_count": 3,
   "metadata": {},
   "outputs": [
    {
     "data": {
      "text/plain": [
       "-425.79621287886704"
      ]
     },
     "execution_count": 3,
     "metadata": {},
     "output_type": "execute_result"
    }
   ],
   "source": [
    "def ranPos():\n",
    "    return random.uniform(MIN_X_Y, MAX_X_Y)\n",
    "\n",
    "ranPos()"
   ]
  },
  {
   "cell_type": "code",
   "execution_count": 4,
   "metadata": {},
   "outputs": [
    {
     "data": {
      "text/plain": [
       "350"
      ]
     },
     "execution_count": 4,
     "metadata": {},
     "output_type": "execute_result"
    }
   ],
   "source": [
    "def posAng(d):\n",
    "    return (d % 360)\n",
    "\n",
    "posAng(-10)"
   ]
  },
  {
   "cell_type": "code",
   "execution_count": 5,
   "metadata": {},
   "outputs": [
    {
     "data": {
      "text/plain": [
       "{0: {'v': velocidade 0,\n",
       "  'a': angulo 0,\n",
       "  't': time 0,\n",
       "  'px': posx 0,\n",
       "  'py': posy 0,\n",
       "  'ds': distSeg 0},\n",
       " 1: {'v': velocidade 0,\n",
       "  'a': angulo 0,\n",
       "  't': time 0,\n",
       "  'px': posx 0,\n",
       "  'py': posy 0,\n",
       "  'ds': distSeg 0},\n",
       " 2: {'v': velocidade 0,\n",
       "  'a': angulo 0,\n",
       "  't': time 0,\n",
       "  'px': posx 0,\n",
       "  'py': posy 0,\n",
       "  'ds': distSeg 0}}"
      ]
     },
     "execution_count": 5,
     "metadata": {},
     "output_type": "execute_result"
    }
   ],
   "source": [
    "def declare(i):\n",
    "    boats = 3 \n",
    "    trace = {}\n",
    "    for b in range(boats):\n",
    "        trace[b] = {}\n",
    "        trace[b][\"v\"] = Const('velocidade '+str(i),Mode)\n",
    "        trace[b][\"a\"] = Int('angulo '+str(i))\n",
    "        trace[b][\"t\"] = Real('time '+str(i))\n",
    "        trace[b][\"px\"] = Real('posx '+str(i))\n",
    "        trace[b][\"py\"] = Real('posy '+str(i))\n",
    "        trace[b][\"ds\"] = Real('distSeg '+str(i))\n",
    "        \n",
    "    return trace\n",
    "\n",
    "declare(0)"
   ]
  },
  {
   "cell_type": "code",
   "execution_count": 6,
   "metadata": {},
   "outputs": [
    {
     "data": {
      "text/html": [
       "velocidade 0 = FAST &and;\n",
       "angulo 0 = 120 &and;\n",
       "posx 0 = 705736954671627/3125000000000 &and;\n",
       "posy 0 = 2593742342190751/100000000000000 &and;\n",
       "time 0 = 0 &and;\n",
       "distSeg 0 = 100 &and;\n",
       "velocidade 0 = FAST &and;\n",
       "angulo 0 = 195 &and;\n",
       "posx 0 = 7338306960934881/50000000000000 &and;\n",
       "posy 0 = -14750214961379527/500000000000000 &and;\n",
       "time 0 = 0 &and;\n",
       "distSeg 0 = 100 &and;\n",
       "velocidade 0 = FAST &and;\n",
       "angulo 0 = 30 &and;\n",
       "posx 0 = -1655508876502893/5000000000000 &and;\n",
       "posy 0 = 3432534829291533/10000000000000 &and;\n",
       "time 0 = 0 &and;\n",
       "distSeg 0 = 100"
      ],
      "text/plain": [
       "And(velocidade 0 == FAST,\n",
       "    angulo 0 == 120,\n",
       "    posx 0 == 705736954671627/3125000000000,\n",
       "    posy 0 == 2593742342190751/100000000000000,\n",
       "    time 0 == 0,\n",
       "    distSeg 0 == 100,\n",
       "    velocidade 0 == FAST,\n",
       "    angulo 0 == 195,\n",
       "    posx 0 == 7338306960934881/50000000000000,\n",
       "    posy 0 == -14750214961379527/500000000000000,\n",
       "    time 0 == 0,\n",
       "    distSeg 0 == 100,\n",
       "    velocidade 0 == FAST,\n",
       "    angulo 0 == 30,\n",
       "    posx 0 == -1655508876502893/5000000000000,\n",
       "    posy 0 == 3432534829291533/10000000000000,\n",
       "    time 0 == 0,\n",
       "    distSeg 0 == 100)"
      ]
     },
     "execution_count": 6,
     "metadata": {},
     "output_type": "execute_result"
    }
   ],
   "source": [
    "def init(s):\n",
    "    r = []\n",
    "    for i in range(len(s)):\n",
    "        angle=ranAng()\n",
    "        r.append(s[i][\"v\"] == M_FAST)\n",
    "        r.append(s[i][\"a\"] == angle)\n",
    "        r.append(s[i][\"px\"] == ranPos())\n",
    "        r.append(s[i][\"py\"] == ranPos())\n",
    "        r.append(s[i][\"t\"] == 0)\n",
    "        r.append(s[i][\"ds\"] == SAFE_DIST)\n",
    "\n",
    "    return And(r)\n",
    "\n",
    "init(declare(0))"
   ]
  },
  {
   "cell_type": "code",
   "execution_count": 7,
   "metadata": {},
   "outputs": [],
   "source": [
    "def trans(ant, curr):\n",
    "    angs = [i*15 for i in range(int(360/15))]\n",
    "    \n",
    "    unt=[]\n",
    "    t = []\n",
    "    estado = []\n",
    "    \n",
    "    #timed\n",
    "    for i in range(len(ant)):\n",
    "        t.append(curr[i][\"v\"] == ant[i][\"v\"])\n",
    "        t.append(curr[i][\"ds\"] == ant[i][\"ds\"])\n",
    "        t.append(curr[i][\"t\"] - ant[i][\"t\"] == TEMPO) #1 sec\n",
    "    \n",
    "        cons = []\n",
    "        consf=[]\n",
    "        \n",
    "        ''''''\n",
    "        \n",
    "        for c in range(len(angs)):\n",
    "            con1 = []\n",
    "            ag=angs[c]\n",
    "            con1.append(ant[i][\"a\"] == ag)\n",
    "            con1.append(curr[i][\"a\"] == ag)\n",
    "            #slow\n",
    "            sx = 1 * math.cos(math.radians(ag))\n",
    "            sy = 1 * math.sin(math.radians(ag))\n",
    "            #fast\n",
    "            fx = 10 * math.cos(math.radians(ag))\n",
    "            fy = 10 * math.sin(math.radians(ag)) \n",
    "            \n",
    "            con1.append(curr[i][\"px\"] == ant[i][\"px\"] + sx)\n",
    "            con1.append(curr[i][\"py\"] == ant[i][\"py\"] + sy)\n",
    "            con1.append(curr[i][\"px\"] == ant[i][\"px\"] + fx)\n",
    "            con1.append(curr[i][\"py\"] == ant[i][\"py\"] + fy)\n",
    "            \n",
    "            cons.append(And(con1))\n",
    "        \n",
    "        \n",
    "        t.append(Or(cons))\n",
    "        \n",
    "    t = And(t)\n",
    "\n",
    "    #UNTIMED\n",
    "    \n",
    "    #ant != curr\n",
    "    for i in range(len(ant)):\n",
    "        estado.append(ant[i][\"px\"] != curr[i][\"px\"])\n",
    "        estado.append(ant[i][\"py\"] != curr[i][\"py\"])\n",
    "        estado.append(ant[i][\"v\"] != curr[i][\"v\"])\n",
    "        estado.append(ant[i][\"a\"] != curr[i][\"a\"])\n",
    "    \n",
    "    for i in range(len(ant)):\n",
    "        #possibilidades 1º fast->fast ff\n",
    "        #2º slow->slow ss \n",
    "        #3º slow->fast sf\n",
    "        #4º fast-slow fs\n",
    "        ''' '''\n",
    "        unt.append(curr[i][\"px\"] == ant[i][\"px\"])\n",
    "        unt.append(curr[i][\"py\"] == ant[i][\"py\"])\n",
    "        unt.append(curr[i][\"ds\"] == ant[i][\"ds\"])\n",
    "        unt.append(curr[i][\"t\"] == ant[i][\"t\"])\n",
    "        \n",
    "        #fast->fast\n",
    "        ff = []\n",
    "        ff.append(And(ant[i][\"v\"] == M_FAST, curr[i][\"v\"] == M_FAST))\n",
    "        ff.append(curr[i][\"a\"] == ant[i][\"a\"])\n",
    "        ff = And(ff)\n",
    "        \n",
    "        #slow -> slow\n",
    "        ss = []\n",
    "        ss.append(And(ant[i][\"v\"] == M_SLOW, curr[i][\"v\"] == M_SLOW))\n",
    "        ss.append(curr[i][\"a\"] == ant[i][\"a\"])\n",
    "        ss = And(ss)\n",
    "\n",
    "        #slow -> fast\n",
    "        sf = []\n",
    "        sf.append(And(ant[i][\"v\"] == M_SLOW, curr[i][\"v\"] == M_FAST))\n",
    "        sf.append(curr[i][\"a\"] == ant[i][\"a\"])\n",
    "        sf = And(sf)\n",
    "\n",
    "        #fast -> slow\n",
    "        fs = []\n",
    "        \n",
    "        fs.append(And(ant[i][\"v\"] == M_FAST, curr[i][\"v\"] == M_SLOW))\n",
    "        fs.append(Or(curr[i][\"a\"] == posAng(ant[i][\"a\"]+15), curr[i][\"a\"] == posAng(ant[i][\"a\"]-15)))\n",
    "        fs = And(fs)\n",
    "        \n",
    "        unt.append(Or(ff, ss, sf, fs))\n",
    "        \n",
    "    unt = And(And(unt), And(estado))\n",
    "      \n",
    "    result = (Or(unt, t))\n",
    "    result=t\n",
    "    \n",
    "    return result"
   ]
  },
  {
   "cell_type": "code",
   "execution_count": 8,
   "metadata": {},
   "outputs": [
    {
     "name": "stdout",
     "output_type": "stream",
     "text": [
      "unsat\n"
     ]
    }
   ],
   "source": [
    "\n",
    "def trace(declare, init, trans, k):\n",
    "    solver = Solver()\n",
    "    trace = [declare(i) for i in range(k)]\n",
    "    solver.add(init(trace[0]))\n",
    "    \n",
    "    for i in range(k-1):\n",
    "        solver.add(trans(trace[i], trace[i+1]))\n",
    "        \n",
    "    if solver.check() == sat:\n",
    "        m = solver.model()\n",
    "        \n",
    "        for i in range(k):\n",
    "            for b in range(len(trace[i])):\n",
    "                for v in trace[i][b]:\n",
    "                    if trace[i][b][v].sort() != RealSort():\n",
    "                        print('Boat_'+b+'_'+v,' = ', m[trace[i][b][v]])\n",
    "                    else: \n",
    "                        print('Boat_'+b+'_'+v,' = ', float(m[trace[i][b][v]].numerator_as_long())/float(m[trace[i][b][v]].denominator_as_long()))\n",
    "    else: \n",
    "        print(unsat)\n",
    "\n",
    "trace(declare, init, trans, 10)"
   ]
  },
  {
   "cell_type": "code",
   "execution_count": null,
   "metadata": {},
   "outputs": [],
   "source": []
  },
  {
   "cell_type": "code",
   "execution_count": null,
   "metadata": {},
   "outputs": [],
   "source": []
  }
 ],
 "metadata": {
  "kernelspec": {
   "display_name": "Python 3",
   "language": "python",
   "name": "python3"
  },
  "language_info": {
   "codemirror_mode": {
    "name": "ipython",
    "version": 3
   },
   "file_extension": ".py",
   "mimetype": "text/x-python",
   "name": "python",
   "nbconvert_exporter": "python",
   "pygments_lexer": "ipython3",
   "version": "3.8.3"
  }
 },
 "nbformat": 4,
 "nbformat_minor": 4
}
