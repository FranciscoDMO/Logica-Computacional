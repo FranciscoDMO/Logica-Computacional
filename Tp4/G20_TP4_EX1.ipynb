{
 "cells": [
  {
   "cell_type": "code",
   "execution_count": 1,
   "metadata": {},
   "outputs": [],
   "source": [
    "from z3 import *"
   ]
  },
  {
   "cell_type": "markdown",
   "metadata": {},
   "source": [
    "## Modelação de programas com FOTS\n",
    "\n",
    "Um programa pode ser modelado por um FOTS da seguinte forma:\n",
    "- O estado é constituído pelas variáveis do programa mais uma variável para o respectivo *program counter*\n",
    "- Os estados iniciais são caracterizados implicitamente por um predicado sobre as variáveis de estado\n",
    "- As transições são caracterizadas implicitamente por um predicado sobre pares de estados\n",
    "\n",
    "Considerando o seguinte programa:\n",
    "\n",
    "```Python\n",
    "assume m >= 0 and n >= 0 and r == 0 and x == m and y == n \n",
    "0: while y > 0:\n",
    "1:    if y & 1 == 1: \n",
    "          y , r = y-1 , r+x \n",
    "2:    x , y = x<<1 , y>>1 \n",
    "3: assert r == m * n\n",
    "```\n",
    "\n",
    "Queremos:"
   ]
  },
  {
   "cell_type": "markdown",
   "metadata": {},
   "source": [
    "## 1. Provar por indução que o programa termina\n",
    "\n",
    "Vamos começar por definir as funções declare, init e trans."
   ]
  },
  {
   "cell_type": "markdown",
   "metadata": {},
   "source": [
    "#### Função declare"
   ]
  },
  {
   "cell_type": "code",
   "execution_count": 2,
   "metadata": {},
   "outputs": [],
   "source": [
    "def declare(i):\n",
    "    trace = {}\n",
    "    trace[\"x\"] = BitVec('x_'+str(i), 16)\n",
    "    trace[\"y\"] = BitVec('y_'+str(i), 16)\n",
    "    trace[\"r\"] = BitVec('r_'+str(i), 16)\n",
    "    trace[\"m\"] = BitVec('m_'+str(i), 16)\n",
    "    trace[\"n\"] = BitVec('n_'+str(i), 16)\n",
    "    trace[\"pc\"] = BitVec('pc_'+str(i), 16)\n",
    "    \n",
    "    return trace"
   ]
  },
  {
   "cell_type": "code",
   "execution_count": 3,
   "metadata": {},
   "outputs": [
    {
     "data": {
      "text/plain": [
       "{'x': x_0, 'y': y_0, 'r': r_0, 'm': m_0, 'n': n_0, 'pc': pc_0}"
      ]
     },
     "execution_count": 3,
     "metadata": {},
     "output_type": "execute_result"
    }
   ],
   "source": [
    "declare(0)"
   ]
  },
  {
   "cell_type": "markdown",
   "metadata": {},
   "source": [
    "#### Função init\n",
    "O estado inicial é caracterizado pelo seguinte predicado:\n",
    "\n",
    "$$\n",
    "\\mathit{pc} = 0 \\wedge r=0 \\wedge m \\ge 0 \\wedge n \\ge 0 \\wedge x=m \\wedge y=n\n",
    "$$"
   ]
  },
  {
   "cell_type": "code",
   "execution_count": 4,
   "metadata": {},
   "outputs": [],
   "source": [
    "def init(trace):\n",
    "    return And(trace[\"pc\"]==0,trace[\"r\"]==0, trace[\"m\"]>=0, trace[\"n\"]>=0, trace[\"x\"]==trace[\"m\"], trace[\"y\"]==trace[\"n\"])\n",
    "    "
   ]
  },
  {
   "cell_type": "code",
   "execution_count": 5,
   "metadata": {},
   "outputs": [
    {
     "data": {
      "text/html": [
       "pc_0 = 0 &and;\n",
       "r_0 = 0 &and;\n",
       "m_0 &ge; 0 &and;\n",
       "n_0 &ge; 0 &and;\n",
       "x_0 = m_0 &and;\n",
       "y_0 = n_0"
      ],
      "text/plain": [
       "And(pc_0 == 0,\n",
       "    r_0 == 0,\n",
       "    m_0 >= 0,\n",
       "    n_0 >= 0,\n",
       "    x_0 == m_0,\n",
       "    y_0 == n_0)"
      ]
     },
     "execution_count": 5,
     "metadata": {},
     "output_type": "execute_result"
    }
   ],
   "source": [
    "init(declare(0))"
   ]
  },
  {
   "cell_type": "markdown",
   "metadata": {},
   "source": [
    "#### Função trans\n",
    "As transições possíveis no FOTS são caracterizadas pelo seguinte predicado:\n",
    "\n",
    "$$\n",
    "\\begin{array}{c}\n",
    "[(\\mathit{pc}=0 \\wedge \\mathit{pc}'=1 \\wedge y>0 \\wedge m'=m  \\wedge n'=n \\wedge r'=r \\wedge x'=x  \\wedge y'=y) \\lor (\\mathit{pc}=0 \\wedge \\mathit{pc}'=3 \\wedge y<=0 \\wedge m'=m  \\wedge n'=n \\wedge r'=r \\wedge x'=x  \\wedge y'=y)] \\\\\n",
    "\\vee\\\\\n",
    "[(\\mathit{pc}=1 \\wedge y\\%1=0 \\wedge \\mathit{pc}'=2 \\wedge m'=m  \\wedge n'=n \\wedge r'=r+x \\wedge x'=x  \\wedge y'=y-1) \\lor (\\mathit{pc}=1 \\wedge y\\&!=1 \\wedge \\mathit{pc}'=2 \\wedge m'=m  \\wedge n'=n \\wedge r'=r \\wedge x'=x  \\wedge y'=y)] \\\\\n",
    "\\vee\\\\\n",
    "(\\mathit{pc}=2 \\wedge \\mathit{pc}'=0 \\wedge m'=m \\wedge n'=n \\wedge r'=r \\wedge x'=x<<1 \\wedge y'=y>>1) \\\\\n",
    "\\vee\\\\\n",
    "(\\mathit{pc}=3 \\wedge \\mathit{pc}'=\\mathit{pc} \\wedge y<=0 \\wedge m'=m \\wedge n'=n  \\wedge n'=n \\wedge r'=r \\wedge x'=x  \\wedge y'=y)\n",
    "\\end{array}\n",
    "$$\n"
   ]
  },
  {
   "cell_type": "code",
   "execution_count": 6,
   "metadata": {},
   "outputs": [],
   "source": [
    "def trans(atual, prox):\n",
    "    # Condições para pc == 0\n",
    "    # y > 0:\n",
    "    ciclo1_pc0 = And(atual[\"pc\"]==0,prox[\"pc\"]==1,atual[\"y\"]>0,prox[\"m\"]==atual[\"m\"], prox[\"n\"]==atual[\"n\"], prox[\"r\"]==atual[\"r\"], prox[\"x\"]==atual[\"x\"], prox[\"y\"]==atual[\"y\"])\n",
    "    \n",
    "    # y <=0\n",
    "    ciclo2_pc0 = And(atual[\"pc\"]==0,prox[\"pc\"]==3,atual[\"y\"]<=0,prox[\"m\"]==atual[\"m\"], prox[\"n\"]==atual[\"n\"], prox[\"r\"]==atual[\"r\"], prox[\"x\"]==atual[\"x\"], prox[\"y\"]==atual[\"y\"])\n",
    "    \n",
    "    pc0 = Or(ciclo1_pc0, ciclo2_pc0)\n",
    "    \n",
    "    # Condições para pc == 1\n",
    "    # if if y & 1 == 1: \n",
    "    if1_pc1 = And(atual[\"pc\"]==1,atual[\"y\"]&1==1,prox[\"pc\"]==2,prox[\"m\"]==atual[\"m\"], prox[\"n\"]==atual[\"n\"], prox[\"r\"]==atual[\"r\"]+atual[\"x\"], prox[\"x\"]==atual[\"x\"], prox[\"y\"]==atual[\"y\"]-1)\n",
    "    \n",
    "    # if if y & 1 =! 1: \n",
    "    if2_pc1 = And(atual[\"pc\"]==1,atual[\"y\"]&1!=1,prox[\"pc\"]==2,prox[\"m\"]==atual[\"m\"], prox[\"n\"]==atual[\"n\"], prox[\"r\"]==atual[\"r\"], prox[\"x\"]==atual[\"x\"], prox[\"y\"]==atual[\"y\"])\n",
    "    \n",
    "    pc1 = Or(if1_pc1, if2_pc1)\n",
    "    \n",
    "    # Condições para pc = 2\n",
    "    pc2 = And(atual[\"pc\"]==2,prox[\"pc\"]==0,prox[\"m\"]==atual[\"m\"], prox[\"n\"]==atual[\"n\"], prox[\"r\"]==atual[\"r\"],prox[\"x\"]==atual[\"x\"]<<1, prox[\"y\"]==atual[\"y\"]>>1)\n",
    "    \n",
    "    # Condições para pc = 3 (ciclo termina) \n",
    "    pc3 = And(atual[\"pc\"]==3,prox[\"pc\"]==atual[\"pc\"], atual[\"y\"]<=0,prox[\"m\"]==atual[\"m\"], prox[\"n\"]==atual[\"n\"], prox[\"r\"]==atual[\"r\"], prox[\"x\"]==atual[\"x\"], prox[\"y\"]==atual[\"y\"])\n",
    "    \n",
    "    return Or(pc0, pc1, pc2, pc3)"
   ]
  },
  {
   "cell_type": "markdown",
   "metadata": {},
   "source": [
    "Utilizando indução com um lookahead de $l$ queremos provar, para um dado traço $s = \\{ s_i \\; | \\; i = 0, 1, \\dots, k-1 \\}$ de um FOTS, que o programa termina - a variável $\\mathtt{pc}$ toma o valor $3$.\n",
    "\n",
    "Temos que descobrir, então, um *variante* $V$ que satisfaz as seguintes condições:\n",
    "\n",
    "- O variante é sempre positivo, ou seja, $ V(s) \\ge 0$\n",
    "- O variante descresce sempre (estritamente) ou atinge o valor 0, ou seja, $ (\\forall s' . \\mathit{trans}(s,s') \\rightarrow (V(s') < V(s) \\vee V(s') = 0))$\n",
    "- Quando o variante é 0 verifica-se necessariamente $\\mathit{pc}=3$, ou seja, $ (V(s)=0 \\rightarrow \\mathit{pc}=3)$\n",
    "\n",
    "O variante pode ser definido como: \n",
    "$$ V (s) \\equiv y_s $$\n",
    "\n",
    "Usando induçao com lookahead:"
   ]
  },
  {
   "cell_type": "code",
   "execution_count": 7,
   "metadata": {},
   "outputs": [],
   "source": [
    "def induction_base(declare, init, var , prop, k):\n",
    "    s = Solver()\n",
    "    trace = {i: declare(i) for i in range(2)}\n",
    "    \n",
    "    s.add(init(trace[0]))\n",
    "    s.add(Not(var(trace[0], trans, k)))\n",
    "    \n",
    "    if s.check() == sat:\n",
    "        print(f'A propriedade ({prop}) no estado inicial abaixo descrito falhou')\n",
    "        m = s.model()\n",
    "        for v in trace[0]:\n",
    "            print(v, \"=\", m[trace[0][v]])\n",
    "        return False\n",
    "    else:\n",
    "        print(f'A propriedade ({prop}) é válida para o estado inicial ')\n",
    "        return True \n",
    "\n",
    "\n",
    "def induction_step(declare, trans, var , prop, k):\n",
    "    s = Solver()\n",
    "    trace = {i: declare(i) for i in range(2)}\n",
    "    \n",
    "    \n",
    "    s.add(var(trace[0], trans, k))\n",
    "    s.add(Not(var(trace[0], trans, k)))\n",
    "\n",
    "    if s.check() == sat:\n",
    "        print(f'Propriedade ({prop}) inválida no passo de indução para o traço abaixo descrito')\n",
    "        m = s.model()\n",
    "        \n",
    "        for v in trace[0]:\n",
    "            print(v, \"=\", m[trace[0][v]])\n",
    "        return False\n",
    "    else:\n",
    "        print(f'Propriedade ({prop}) é válida no passo de indução')\n",
    "        return True \n"
   ]
  },
  {
   "cell_type": "code",
   "execution_count": 8,
   "metadata": {},
   "outputs": [],
   "source": [
    "def variant(trace):\n",
    "    return trace[\"y\"]\n",
    "\n",
    "def var_positive(trace, trans, l):\n",
    "    traces = {i: declare(i) for i in range(1, l+1)}\n",
    "    c1 = And([trans(traces[i], traces[i+1]) for i in range(1, l)] + [trans(trace, traces[1])])\n",
    "    c2 = variant(traces[l])>=0\n",
    "    r = ForAll(list(traces[l].values()), Implies(c1, c2))\n",
    "    return r\n",
    "\n",
    "def var_decreases(trace, trans, l):\n",
    "    traces = {i: declare(i) for i in range(1, l+1)}\n",
    "    c1 = And([trans(traces[i], traces[i+1]) for i in range(1, l)] + [trans(trace, traces[1])])\n",
    "    c2 = Or(variant(traces[l])<variant(trace), variant(traces[l])==0)\n",
    "    r = ForAll(list(traces[l].values()), Implies(c1, c2))\n",
    "    return r\n",
    "\n",
    "def var_useful(trace, trans, l):\n",
    "    traces = {i: declare(i) for i in range(1, l+1)}\n",
    "    c1 = And([trans(traces[i], traces[i+1]) for i in range(1, l)] + [trans(trace, traces[1])])\n",
    "    c2 = Implies(variant(traces[l])==0, traces[l][\"pc\"]==3)\n",
    "    r = ForAll(list(traces[l].values()), Implies(c1, c2))\n",
    "    return r"
   ]
  },
  {
   "cell_type": "code",
   "execution_count": 9,
   "metadata": {},
   "outputs": [],
   "source": [
    "def induction_always(declare, init, trans, var , prop, k):\n",
    "    return induction_base(declare, init, var , prop, k) and induction_step(declare, trans, var, prop, k)\n"
   ]
  },
  {
   "cell_type": "code",
   "execution_count": 10,
   "metadata": {},
   "outputs": [
    {
     "name": "stdout",
     "output_type": "stream",
     "text": [
      "A propriedade (positive) é válida para o estado inicial \n",
      "Propriedade (positive) é válida no passo de indução\n"
     ]
    },
    {
     "data": {
      "text/plain": [
       "True"
      ]
     },
     "execution_count": 10,
     "metadata": {},
     "output_type": "execute_result"
    }
   ],
   "source": [
    "induction_always(declare, init, trans, var_positive,\"positive\", 10)\n"
   ]
  },
  {
   "cell_type": "code",
   "execution_count": 11,
   "metadata": {},
   "outputs": [
    {
     "name": "stdout",
     "output_type": "stream",
     "text": [
      "A propriedade (decreases) é válida para o estado inicial \n",
      "Propriedade (decreases) é válida no passo de indução\n"
     ]
    },
    {
     "data": {
      "text/plain": [
       "True"
      ]
     },
     "execution_count": 11,
     "metadata": {},
     "output_type": "execute_result"
    }
   ],
   "source": [
    "induction_always(declare, init, trans, var_decreases,\"decreases\", 10)\n"
   ]
  },
  {
   "cell_type": "code",
   "execution_count": 12,
   "metadata": {},
   "outputs": [
    {
     "name": "stdout",
     "output_type": "stream",
     "text": [
      "A propriedade (useful) é válida para o estado inicial \n",
      "Propriedade (useful) é válida no passo de indução\n"
     ]
    },
    {
     "data": {
      "text/plain": [
       "True"
      ]
     },
     "execution_count": 12,
     "metadata": {},
     "output_type": "execute_result"
    }
   ],
   "source": [
    "induction_always(declare, init, trans, var_useful, \"useful\", 10)"
   ]
  },
  {
   "cell_type": "markdown",
   "metadata": {},
   "source": [
    "## Correção Parcial"
   ]
  },
  {
   "cell_type": "markdown",
   "metadata": {},
   "source": [
    "### 1. Havoc"
   ]
  },
  {
   "cell_type": "markdown",
   "metadata": {},
   "source": [
    "A denotação do triplo de Hoare $\\{\\phi\\} {\\sf while} \\; b \\;{\\sf do}\\{\\theta\\}\\,C \\,\\{\\psi\\}$,  traduzido desta forma,\n",
    "permite garantir as propriedades de \"inicialização\", \"preservação\" e \"utilidade\" do invariante $\\theta$"
   ]
  },
  {
   "cell_type": "markdown",
   "metadata": {},
   "source": [
    "$$\n",
    "\\begin{array}{l}\n",
    "[\\,{\\sf assume}\\;\\phi\\; ;{{\\sf assert}\\; \\theta\\; ; \\sf havoc }\\;\\vec{x} \\; ; (\\,({\\sf assume }\\; b \\wedge \\theta \\; ; \\; C \\; ; {\\sf assert}\\;\\theta \\; ; {\\sf assume}\\; \\mathit{False}) \\: || \\:\n",
    "{\\sf assume}\\; \\neg b \\wedge \\theta \\,)\\; ; {\\sf assert} \\; \\psi \\,] \\\\ = \\\\\n",
    "\\phi \\to \\theta \\wedge \\forall \\vec{x}. \\, (\\,(b \\wedge \\theta \\to [C\\;; {\\sf assert}\\; \\theta ]) \\wedge (\\neg b \\wedge \\theta \\to \\psi )\\,)\n",
    "\\end{array}\n",
    "$$"
   ]
  },
  {
   "cell_type": "markdown",
   "metadata": {},
   "source": [
    " . Pré-condição: $m>=0 \\wedge n>=0 \\wedge r=0 \\wedge x=m \\wedge y=n$\n",
    " \n",
    " . Pós-condição: $r = m*n$\n",
    " \n",
    " . Invariante: $x*y+r=m*n \\wedge y>=0$\n",
    " \n",
    " . Condição (cond): $y\\%1==1$\n",
    " \n",
    " Também podemos extender a condição: $ [C\\;; {\\sf assert}\\; \\theta ]$\n",
    " \n",
    "$ [C\\;; {\\sf assert}\\; \\theta ] = [ (C_1||C_2) ;{\\sf assert}\\;\\theta ] = [C_1\\;; {\\sf assert}\\; \\theta ] \\; \\wedge \\; [C_2\\;; {\\sf assert}\\; \\theta ] = \\big( cond \\to \\theta[y/y>>1][x/x<<1][r/r+x][y/y-1] \\big) \\; \\wedge \\; \\big( \\neg cond \\to \\theta[y/y>>1][x/x<<1] \\big) $"
   ]
  },
  {
   "cell_type": "code",
   "execution_count": 13,
   "metadata": {},
   "outputs": [],
   "source": [
    "def prove(f):\n",
    "    s = Solver()\n",
    "    s.add(Not(f))\n",
    "    r = s.check()\n",
    "    if r == unsat:\n",
    "        print(\"Proved\")\n",
    "    else:\n",
    "        print(\"Failed to prove\")\n",
    "        m = s.model()\n",
    "        for v in m:\n",
    "            print(v,'=', m[v])"
   ]
  },
  {
   "cell_type": "code",
   "execution_count": 14,
   "metadata": {},
   "outputs": [],
   "source": [
    "def havoc(nbits):\n",
    "    m, n, r, x, y = BitVecs(\"m n r x y\", nbits) \n",
    "    \n",
    "    preC = And(m>=0,n>=0,r==0,x==m,y==n)\n",
    "    posC = r==m*n\n",
    "    inv = And(x*y+r==m*n,y>=0)\n",
    "    b = y>0\n",
    "    cond = y&1==1\n",
    "    \n",
    "    # INICIALIZAÇÃO:\n",
    "    init = inv\n",
    "    \n",
    "    # UTILIDADE:\n",
    "    # condiçoes do [C; assert inv]:\n",
    "    cond1 = Implies(cond,substitute(substitute(substitute(substitute(inv,(y,y>>1)),(x,x<<1)),(r,r+x)),(y,y-1)))\n",
    "    cond2 = Implies(Not(cond), substitute(substitute(inv,(y,y>>1)),(x,x<<1)))\n",
    "    \n",
    "    # [C; assert inv]:\n",
    "    cAssertInv = And(cond1,cond2)\n",
    "    \n",
    "    # (b^inv -> cAsssertInv)\n",
    "    util = Implies(And(b,inv),cAssertInv)\n",
    "    \n",
    "    # PRESERVAÇÃO:\n",
    "    pres = Implies(And(Not(b),inv),posC)\n",
    "\n",
    "    wpc=Implies(preC, And(init, ForAll([x,y,r], And(util, pres))))\n",
    "    \n",
    "    prove(wpc)"
   ]
  },
  {
   "cell_type": "code",
   "execution_count": 15,
   "metadata": {},
   "outputs": [
    {
     "name": "stdout",
     "output_type": "stream",
     "text": [
      "Proved\n"
     ]
    }
   ],
   "source": [
    "havoc(4)"
   ]
  },
  {
   "cell_type": "code",
   "execution_count": 16,
   "metadata": {},
   "outputs": [
    {
     "name": "stdout",
     "output_type": "stream",
     "text": [
      "Proved\n"
     ]
    }
   ],
   "source": [
    "havoc(8)"
   ]
  },
  {
   "cell_type": "code",
   "execution_count": 17,
   "metadata": {},
   "outputs": [
    {
     "name": "stdout",
     "output_type": "stream",
     "text": [
      "Proved\n"
     ]
    }
   ],
   "source": [
    "havoc(10)"
   ]
  }
 ],
 "metadata": {
  "kernelspec": {
   "display_name": "Python 3",
   "language": "python",
   "name": "python3"
  },
  "language_info": {
   "codemirror_mode": {
    "name": "ipython",
    "version": 3
   },
   "file_extension": ".py",
   "mimetype": "text/x-python",
   "name": "python",
   "nbconvert_exporter": "python",
   "pygments_lexer": "ipython3",
   "version": "3.8.5"
  }
 },
 "nbformat": 4,
 "nbformat_minor": 4
}
