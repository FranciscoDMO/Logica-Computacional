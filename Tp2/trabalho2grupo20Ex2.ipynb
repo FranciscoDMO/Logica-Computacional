{
 "cells": [
  {
   "cell_type": "markdown",
   "metadata": {},
   "source": [
    "# Lógica Computacional\n",
    "#### Grupo 20\n",
    "* Francisco Domingos Martins Oliveira,  A82066\n",
    "* José Luís Cerqueira Pires, A84552"
   ]
  },
  {
   "cell_type": "markdown",
   "metadata": {},
   "source": [
    "## Trabalho Prático 2\n",
    "Vamos começar por importar as ferramentas necessárias em todo o Notebook."
   ]
  },
  {
   "cell_type": "code",
   "execution_count": 1,
   "metadata": {},
   "outputs": [],
   "source": [
    "import matplotlib.pyplot as plt\n",
    "import networkx as nx\n",
    "import numpy as np\n",
    "from z3 import *"
   ]
  },
  {
   "cell_type": "markdown",
   "metadata": {},
   "source": [
    "## Exercício 2"
   ]
  },
  {
   "cell_type": "markdown",
   "metadata": {},
   "source": [
    "Primeiramente, vamos definir as funções que nos vão ajudar a calcular os valores conforme formos percorrendo o grafo."
   ]
  },
  {
   "cell_type": "code",
   "execution_count": null,
   "metadata": {},
   "outputs": [],
   "source": [
    "n=16\n",
    "def l_shift_rot(c, r):\n",
    "    return((c<<r) | LShR(c,16-r))\n",
    "\n",
    "# Bitwise Exclusive XOR\n",
    "def xor (x, y):\n",
    "    return x^y\n",
    "# sum \n",
    "def soma(x, y):\n",
    "    return x+y\n"
   ]
  },
  {
   "cell_type": "markdown",
   "metadata": {},
   "source": [
    "De seguida criamos a função para solucionar o problema.\n",
    "Começamos por inverter o grafo.\n",
    "Ao percorre-lo, verificamos a que $gate$ um dado vértice está associado. Se for uma soma ou um xor, guardamos em duas variaveis os dois vértices vizinhos e adicionamos ao solver a operação encontrada entre as variaveis binarias formadas pelo vertice em questao e os vertives vizinhos: $x_{v,vizinho_1}$ , $x_{v,vizinho_2}$\n",
    "Caso seja, um $left shift rotate$ ou $wire$ só existirá um vizinho. Mas o processo, é análogo.\n"
   ]
  },
  {
   "cell_type": "code",
   "execution_count": 2,
   "metadata": {},
   "outputs": [],
   "source": [
    "\n",
    "def graph_solver(graph):\n",
    "    graph = nx.DiGraph.reverse(graph)\n",
    "    s = Solver()\n",
    "    x= {}\n",
    "    \n",
    "    # incializar as variáveis em z3 \n",
    "    for a, b in graph.edges:\n",
    "        if \"peso\" in graph.edges[a,b]:\n",
    "            x[a,b] = graph.edges[a,b][\"peso\"]\n",
    "        else:\n",
    "            x[a,b] = BitVec(str(a)+str(b), n)\n",
    "    for a,b in graph.edges:\n",
    "        aresta= x[a,b]\n",
    "        if graph.nodes[b][\"op\"] == \"xor\": \n",
    "            vizinhos=list(graph.neighbors(b))\n",
    "            vizinho1 = vizinhos[0]\n",
    "            vizinho2= vizinhos[1]\n",
    "            t=(xor(x[b,vizinho1],x[b,vizinho2]))\n",
    "            s.add(t>0)\n",
    "            s.add (t == aresta)\n",
    "        elif graph.nodes[b][\"op\"] == \"soma\":\n",
    "            vizinhos=list(graph.neighbors(b))\n",
    "            vizinho1 = vizinhos[0]\n",
    "            vizinho2 = vizinhos[1]\n",
    "            t=(soma(x[b,vizinho1],x[b,vizinho2]) )\n",
    "            s.add (t == aresta)\n",
    "            # soma >0 para nao ser trivial pode se remove\n",
    "            s.add (t >0)\n",
    "        elif graph.nodes[b][\"op\"] == \"lshr\":\n",
    "            vizinhos=list(graph.neighbors(b))\n",
    "            vizinho = vizinhos[0]\n",
    "            shiftv=graph.nodes[b][\"rotate\"]\n",
    "            t=l_shift_rot(x[b,vizinho],shiftv)\n",
    "            s.add (aresta == t)\n",
    "        elif graph.nodes[b][\"op\"] == \"wire\":\n",
    "            vizinhos=list(graph.neighbors(b))\n",
    "            t = vizinhos[0]\n",
    "            s.add(aresta==t)\n",
    "            \n",
    "\n",
    "    if s.check() == sat:\n",
    "        m = s.model()\n",
    "        for a,b in x:\n",
    "            #colocar os valores finais no grafo \n",
    "            if m[x[a,b]] != None:\n",
    "                graph.edges[a,b][\"peso\"] = m[x[a,b]]\n",
    "        sol = nx.DiGraph.reverse(graph)\n",
    "        return sol\n",
    "    else:\n",
    "        return 'NULL'\n",
    "        \n",
    "    "
   ]
  },
  {
   "cell_type": "markdown",
   "metadata": {},
   "source": [
    "Criamos também uma função para desenhar o grafo:"
   ]
  },
  {
   "cell_type": "code",
   "execution_count": 3,
   "metadata": {},
   "outputs": [],
   "source": [
    "def draw_graph (graph):\n",
    "    nodes = {}\n",
    "    \n",
    "    for i in graph.nodes:\n",
    "        if graph.nodes[i][\"op\"] == \"out\":\n",
    "            nodes[i] = \"out\"\n",
    "        elif graph.nodes[i][\"op\"] == \"xor\":\n",
    "            nodes[i] = \"xor\"\n",
    "        elif graph.nodes[i][\"op\"] == \"soma\":\n",
    "            nodes[i] = \"+\"\n",
    "        elif graph.nodes[i][\"op\"] == \"lshr\":\n",
    "            nodes[i] = \"<<\" + str(graph.nodes[i][\"rotate\"])\n",
    "        elif graph.nodes[i][\"op\"] == \"in\":\n",
    "            nodes[i] = \"in\"\n",
    "        elif graph.nodes[i][\"op\"] == \"wire\":\n",
    "            nodes[i] = \"wire\"\n",
    "    \n",
    "    \n",
    "    labels = {}\n",
    "    for a,b in graph.edges():\n",
    "        if \"peso\" in graph.edges[a,b]:\n",
    "            labels[(a,b)]= graph.edges[a,b][\"peso\"]\n",
    "\n",
    "            \n",
    "\n",
    "    \n",
    "            \n",
    "    pos = nx.nx_pydot.graphviz_layout(graph)\n",
    "    pos = nx.nx_pydot.graphviz_layout(graph, prog=\"dot\")\n",
    "    nx.draw(graph, font_size=10, pos=pos, labels=nodes)\n",
    "    nx.draw_networkx_edge_labels(graph, pos, labels)\n",
    "    plt.show()"
   ]
  },
  {
   "cell_type": "markdown",
   "metadata": {},
   "source": [
    "Alguns exemplos do funcionamento do programa: "
   ]
  },
  {
   "cell_type": "code",
   "execution_count": 4,
   "metadata": {},
   "outputs": [
    {
     "data": {
      "image/png": "[encoded data removed]",
      "text/plain": [
       "<Figure size 432x288 with 1 Axes>"
      ]
     },
     "metadata": {},
     "output_type": "display_data"
    }
   ],
   "source": [
    "n = 16\n",
    "\n",
    "G = nx.DiGraph()\n",
    "G.add_nodes_from([i for i in range(8)])\n",
    "G.add_edges_from([(1, 0), (2, 1), (3, 1), (6, 3), (4, 2), (5, 2), (7, 3)])\n",
    "G.nodes[0][\"op\"] = \"out\"\n",
    "G.edges[1,0][\"peso\"] = BitVecVal(np.random.randint(2**16), 16) \n",
    "for i in [1,2, 3]:\n",
    "    G.nodes[i][\"op\"] = \"soma\"\n",
    "for i in [4, 5, 6, 7]:\n",
    "    G.nodes[i][\"op\"] = \"in\"\n",
    "\n",
    "\n",
    "G = graph_solver(G)\n",
    "while(True):\n",
    "    if(G!='NULL'):\n",
    "        draw_graph(G)\n",
    "        break "
   ]
  },
  {
   "cell_type": "code",
   "execution_count": 5,
   "metadata": {},
   "outputs": [
    {
     "data": {
      "image/png": "[encoded data removed]",
      "text/plain": [
       "<Figure size 432x288 with 1 Axes>"
      ]
     },
     "metadata": {},
     "output_type": "display_data"
    }
   ],
   "source": [
    "n = 16\n",
    "\n",
    "G = nx.DiGraph()\n",
    "G.add_nodes_from([i for i in range(9)])\n",
    "G.add_edges_from([(1, 0), (2, 1), (3, 1), (6, 2), (4, 2), (5, 3), (8, 4),(7,4)])\n",
    "G.nodes[0][\"op\"] = \"out\"\n",
    "G.edges[1,0][\"peso\"] = BitVecVal(np.random.randint(2**16), 16) \n",
    "for i in [1,2]:\n",
    "    G.nodes[i][\"op\"] = \"soma\"\n",
    "for i in [4]:\n",
    "    G.nodes[i][\"op\"] = \"xor\"\n",
    "for i in [5, 6, 7, 8]:\n",
    "    G.nodes[i][\"op\"] = \"in\"\n",
    "for i in [3]:\n",
    "    G.nodes[i][\"op\"] = \"lshr\"\n",
    "    G.nodes[i][\"rotate\"]=np.random.randint(1,16)\n",
    "\n",
    "\n",
    "G = graph_solver(G)\n",
    "while(True):\n",
    "    if(G!='NULL'):\n",
    "        draw_graph(G)\n",
    "        break "
   ]
  },
  {
   "cell_type": "code",
   "execution_count": 6,
   "metadata": {},
   "outputs": [
    {
     "data": {
      "image/png": "[encoded data removed]",
      "text/plain": [
       "<Figure size 432x288 with 1 Axes>"
      ]
     },
     "metadata": {},
     "output_type": "display_data"
    }
   ],
   "source": [
    "n = 16\n",
    "\n",
    "G = nx.DiGraph()\n",
    "G.add_nodes_from([i for i in range(6)])\n",
    "G.add_edges_from([(1, 0), (2, 1), (3, 1),(4,3),(5,3)])\n",
    "G.nodes[0][\"op\"] = \"out\"\n",
    "G.edges[1,0][\"peso\"] = BitVecVal(np.random.randint(2**16), 16) \n",
    "for i in [1,3]:\n",
    "    G.nodes[i][\"op\"] = \"xor\"\n",
    "for i in [2, 4,5]:\n",
    "    G.nodes[i][\"op\"] = \"in\"\n",
    "\n",
    "\n",
    "\n",
    "G = graph_solver(G)\n",
    "while(True):\n",
    "    if(G!='NULL'):\n",
    "        draw_graph(G)\n",
    "        break "
   ]
  },
  {
   "cell_type": "code",
   "execution_count": null,
   "metadata": {},
   "outputs": [],
   "source": []
  }
 ],
 "metadata": {
  "kernelspec": {
   "display_name": "Python 3",
   "language": "python",
   "name": "python3"
  },
  "language_info": {
   "codemirror_mode": {
    "name": "ipython",
    "version": 3
   },
   "file_extension": ".py",
   "mimetype": "text/x-python",
   "name": "python",
   "nbconvert_exporter": "python",
   "pygments_lexer": "ipython3",
   "version": "3.8.3"
  }
 },
 "nbformat": 4,
 "nbformat_minor": 4
}
