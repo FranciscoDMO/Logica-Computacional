{
 "cells": [
  {
   "cell_type": "markdown",
   "metadata": {},
   "source": [
    "# Lógica Computacional\n",
    "#### Grupo 20\n",
    "* Francisco Domingos Martins Oliveira,  A82066\n",
    "* José Luís Cerqueira Pires, A84552"
   ]
  },
  {
   "cell_type": "markdown",
   "metadata": {},
   "source": [
    "## Trabalho Prático 1"
   ]
  },
  {
   "cell_type": "markdown",
   "metadata": {},
   "source": [
    "Vamos começar por importar as ferramentas necessárias em todo o Notebook."
   ]
  },
  {
   "cell_type": "code",
   "execution_count": 1,
   "metadata": {},
   "outputs": [],
   "source": [
    "from z3 import*\n",
    "import matplotlib.pyplot as plt\n",
    "from timeit import timeit"
   ]
  },
  {
   "cell_type": "markdown",
   "metadata": {},
   "source": [
    "### Exercício 2, Alínea a,i)\n",
    "\n",
    "É possível usar lógica proposicional para modelar o problema de associar pombos $p$  a poleiros $pol$. Para tal, vamos necessitar de $p \\times pol$ variáveis proposicionais, onde a variável $x_{p,pol}$ determina se o pombo $p$ está no poleiro $pol$.\n",
    "Para cada variável $(p,pol)$, temos a seguinte restrição que obriga cada pombo ocupar um poleiro diferente.\n",
    "\n",
    "$$\n",
    "\\forall_{p< pombos} \\cdot \\forall_{p+1 <= p2 <pombos} \\quad (x_{p,pol} \\rightarrow \\neg x_{p2,pol})\n",
    "$$\n",
    "\n",
    "A restrição de que cada pombo $p$ ocupa totalmente um poleiro pode ser implementada por duas restrições mais simples:\n",
    "1. O pombo $p$ ocupa pelo menos um poleiro $pol$.\n",
    "2. O pombo $p$ não pode ocupar mais do que um poleiro $pol$.\n",
    "\n",
    "Vamos então criar um dicionário (de dicionários) `x` para fazer o mapeamento entre o identificador de cada pombo e de cada poleiro e a respectiva variável booleana do Z3 (concretamente, `x[p][pol]` corresponde à variável $x_{p,pol}$ na modelação acima).\n",
    "\n",
    "Iremos depois adicionar a um solver as condições que satisfazem os pontos 1 e 2.\n",
    "\n",
    "O primeiro caso traduz-se da seguinte maneira: todo o pombo $p$ ocupa o poleiro $0$ ou poleiro $1$ ... ou o poleiro $pol-1$. Ou seja, para cada pombo $p$ a união, para cada poleiro $pol$, de todas as variaveis $x_{p,pol}$.\n",
    "\n",
    "O segundo caso traduz-se da subsequente forma:\n",
    "\n",
    "$$\n",
    "\\forall_{p < pombos} \\cdot \\forall_{pol < poleiros} \\cdot \\forall_{pol+1 <= pol2 < poleiros} \\quad (x_{p,pol} \\rightarrow \\neg x_{p,pol2})\n",
    "$$"
   ]
  },
  {
   "cell_type": "code",
   "execution_count": 2,
   "metadata": {},
   "outputs": [
    {
     "data": {
      "text/plain": [
       "False"
      ]
     },
     "execution_count": 2,
     "metadata": {},
     "output_type": "execute_result"
    }
   ],
   "source": [
    "def php(pombos):\n",
    "    s = Solver()\n",
    "    poleiros = pombos-1\n",
    "    #dicionario com todos os pombos e os poleiros possiveis onde eles podem ficar\n",
    "    x = {}\n",
    "    for p in range(pombos):\n",
    "        x[p] = {}\n",
    "        for pol in range(poleiros):\n",
    "            x[p][pol] = Bool(str(p)+'_'+ str(pol))\n",
    "    \n",
    "    #Cada pombo ocupa um poleiro diferente\n",
    "    for p in range(pombos):\n",
    "        for p2 in range(p+1,pombos):\n",
    "            for pol in range(poleiros):\n",
    "                s.add(Implies(x[p][pol],Not(x[p2][pol])))\n",
    "    \n",
    "    # Condição 1: cada pombo ocupa pelo menos um poleiro\n",
    "    for p in range(pombos):\n",
    "        s.add(Or(list(x[p].values())))\n",
    " \n",
    "    # Condição 2: cada pombo nao pode ocupar mais do que um poleiro\n",
    "    for p in range(pombos):\n",
    "        for pol in range(poleiros):\n",
    "            for pol2 in range(pol+1,poleiros):\n",
    "                s.add(Implies(x[p][pol],Not(x[p][pol2])))\n",
    "    \n",
    "    #print(s)\n",
    "    return s.check()==sat\n",
    "\n",
    "\n",
    "php(10)"
   ]
  },
  {
   "cell_type": "markdown",
   "metadata": {},
   "source": [
    "### Exercício 2, alínea a,ii)\n"
   ]
  },
  {
   "cell_type": "markdown",
   "metadata": {},
   "source": [
    "Uma alternativa para modelar este problema com aritmética linear inteira seria usar uma técnica semelhante à modelação com lógica proposicional, ou seja usar $pombos \\times poleiros$ variáveis inteiras binárias (com valor entre 0 e 1), onde a variável $x_{p,pol}$ determina se o pombo $p$ ocupa o poleiro $pol$.\n",
    "\n",
    "Em geral, num solver para programação inteira todas as restrições devem ser equações lineares da forma $a_1 \\cdot x_1 + \\ldots a_n \\cdot x_n \\sim b$ onde $a_1, \\ldots, a_n, b$ são constantes inteiras, $x_1, \\ldots, x_n$ são variáveis inteiras e $\\sim$ é um dos operadores de comparação $<,\\leq,=,\\geq,>$.\n",
    "\n",
    "Vamos usar uma família $x_{p,pol}$ de variáveis binárias (i.e., que assumem valores inteiros $\\{0,1\\}$), com a seguinte semântica:\n",
    "\n",
    "$$\n",
    "x_{p,pol} == 1  \\quad \\mbox{se e só se} \\quad \\mbox{o pombo $p$ for alocado ao poleiro $pol$}\n",
    "$$\n",
    "\n",
    "Cada pombo ocupar totalmente um poleiro pode-se traduzir da seguinte forma:\n",
    "\n",
    "$$\n",
    "\\forall_{p < pombos} \\cdot \\quad (\\sum_{pol<poleiros} x_{p,pol} == 1)\n",
    "$$\n",
    "\n",
    "Alocar cada pombo a um próprio poleiro, é o mesmo que dizer que todos os poleiros têm alocados um pombo, no máximo. Isto é:\n",
    "\n",
    "$$\n",
    "\\forall_{po<poleiros} \\cdot \\quad (\\sum_{p<pombos} x_{p,pol} <= 1)\n",
    "$$"
   ]
  },
  {
   "cell_type": "code",
   "execution_count": 3,
   "metadata": {},
   "outputs": [
    {
     "data": {
      "text/plain": [
       "False"
      ]
     },
     "execution_count": 3,
     "metadata": {},
     "output_type": "execute_result"
    }
   ],
   "source": [
    "def php2(pombos):\n",
    "    s = Solver()\n",
    "    poleiros = pombos-1\n",
    "    x = {}\n",
    "    for p in range(pombos):\n",
    "        for pol in range(poleiros):\n",
    "            x[p,pol] = Int(str(p)+'_'+str(pol))\n",
    "\n",
    "    #cada pombo ocupa totalmente um poleiro\n",
    "    for p in range(pombos):\n",
    "        s.add(Sum([x[p,pol] for pol in range(poleiros)])==1)\n",
    "        \n",
    "    #cada poleiro tem no maximo um pombo\n",
    "    for pol in range(poleiros):\n",
    "        s.add(Sum([x[p,pol] for p in range(pombos)])<=1)\n",
    "        \n",
    "    return s.check()==sat\n",
    "\n",
    "        \n",
    "php2(50)"
   ]
  },
  {
   "cell_type": "markdown",
   "metadata": {},
   "source": [
    "### Exercício 2, alínea b)\n",
    "\n",
    "Para apreciar a diferença de eficiência e melhor verificar a complexidade entre os algoritmos vamos usar a função `timeit` da biblioteca `timeit`, que permite executar várias vezes um comando para depois se calcular o tempo médio."
   ]
  },
  {
   "cell_type": "code",
   "execution_count": 4,
   "metadata": {},
   "outputs": [
    {
     "name": "stdout",
     "output_type": "stream",
     "text": [
      "Número de pombos: 1\n",
      "LP: 0.009968233333333151\n",
      "LLI: 0.009278233333333219\n",
      "\n",
      "\n",
      "Número de pombos: 2\n",
      "LP: 0.009897800000000068\n",
      "LLI: 0.0097186666666668\n",
      "\n",
      "\n",
      "Número de pombos: 3\n",
      "LP: 0.010867833333333484\n",
      "LLI: 0.010157133333333235\n",
      "\n",
      "\n",
      "Número de pombos: 4\n",
      "LP: 0.014148400000000136\n",
      "LLI: 0.012565400000000023\n",
      "\n",
      "\n",
      "Número de pombos: 5\n",
      "LP: 0.017428833333333078\n",
      "LLI: 0.01290263333333345\n",
      "\n",
      "\n",
      "Número de pombos: 6\n",
      "LP: 0.024261066666666647\n",
      "LLI: 0.013445433333333293\n",
      "\n",
      "\n",
      "Número de pombos: 7\n",
      "LP: 0.03650036666666671\n",
      "LLI: 0.014390799999999851\n",
      "\n",
      "\n",
      "Número de pombos: 8\n",
      "LP: 0.05931340000000004\n",
      "LLI: 0.015728200000000154\n",
      "\n",
      "\n",
      "Número de pombos: 9\n",
      "LP: 0.25536053333333353\n",
      "LLI: 0.017546899999999848\n",
      "\n",
      "\n",
      "Número de pombos: 10\n",
      "LP: 0.8152638333333329\n",
      "LLI: 0.018076033333333186\n",
      "\n",
      "\n"
     ]
    }
   ],
   "source": [
    "for pombos in range(1,11):\n",
    "    print(\"Número de pombos:\",pombos)\n",
    "\n",
    "    print(\"LP:\",timeit(setup=\"from __main__ import php,pombos\",\\\n",
    "           stmt=\"php(pombos)\",number=3)/3)\n",
    "    \n",
    "    print(\"LLI:\",timeit(setup=\"from __main__ import php2,pombos\",\\\n",
    "           stmt=\"php2(pombos)\",number=3)/3)\n",
    "    print(\"\\n\")"
   ]
  },
  {
   "cell_type": "markdown",
   "metadata": {},
   "source": [
    "De seguida vamos apresentar os gráficos do tempo relativo ao número de pombos."
   ]
  },
  {
   "cell_type": "code",
   "execution_count": 7,
   "metadata": {},
   "outputs": [
    {
     "data": {
      "image/png": "[encoded data removed]",
      "text/plain": [
       "<Figure size 432x288 with 1 Axes>"
      ]
     },
     "metadata": {
      "needs_background": "light"
     },
     "output_type": "display_data"
    }
   ],
   "source": [
    "#a fazer tentativa erro escolhemos entre 1 e 13 pois se >13 iria demorar demasiado tempo \n",
    "plt.plot(range(1, 13), [timeit(setup=\"from __main__ import php\", \\\n",
    "       stmt=f\"php({x})\", number = 2) for x in range(1, 13)])\n",
    "plt.show()"
   ]
  },
  {
   "cell_type": "code",
   "execution_count": 16,
   "metadata": {},
   "outputs": [
    {
     "data": {
      "image/png": "[encoded data removed]",
      "text/plain": [
       "<Figure size 432x288 with 1 Axes>"
      ]
     },
     "metadata": {
      "needs_background": "light"
     },
     "output_type": "display_data"
    }
   ],
   "source": [
    "plt.plot(range(1, 13), [timeit(setup=\"from __main__ import php2\", \\\n",
    "       stmt=f\"php2({x})\", number = 1) for x in range(1, 13)])\n",
    "plt.show()"
   ]
  },
  {
   "cell_type": "markdown",
   "metadata": {},
   "source": [
    "Para obter uma imagem mais clara do tempo de execução aumentamos o numero de pombos para 200 na prova por lógica inteira linear. "
   ]
  },
  {
   "cell_type": "code",
   "execution_count": 11,
   "metadata": {},
   "outputs": [
    {
     "data": {
      "image/png": "[encoded data removed]",
      "text/plain": [
       "<Figure size 432x288 with 1 Axes>"
      ]
     },
     "metadata": {
      "needs_background": "light"
     },
     "output_type": "display_data"
    }
   ],
   "source": [
    "plt.plot(range(1, 200), [timeit(setup=\"from __main__ import php2\", \\\n",
    "       stmt=f\"php2({x})\", number = 1) for x in range(1, 200)])\n",
    "plt.show()"
   ]
  },
  {
   "cell_type": "markdown",
   "metadata": {},
   "source": [
    "Depois de analisar os gráficos, podemos concluir que usando Lógica Proposicional para resolver este problema não é muito eficiente para números elevados de pombos , tendo esta um tempo de execução exponencial enquanto que Lógica Linear Inteira têm um tempo de execução"
   ]
  }
 ],
 "metadata": {
  "kernelspec": {
   "display_name": "Python 3",
   "language": "python",
   "name": "python3"
  },
  "language_info": {
   "codemirror_mode": {
    "name": "ipython",
    "version": 3
   },
   "file_extension": ".py",
   "mimetype": "text/x-python",
   "name": "python",
   "nbconvert_exporter": "python",
   "pygments_lexer": "ipython3",
   "version": "3.8.3"
  }
 },
 "nbformat": 4,
 "nbformat_minor": 4
}
