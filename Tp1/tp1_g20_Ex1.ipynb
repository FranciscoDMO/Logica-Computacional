{
 "cells": [
  {
   "cell_type": "markdown",
   "metadata": {},
   "source": [
    "# Lógica Computacional\n",
    "#### Grupo 20\n",
    "* Francisco Domingos Martins Oliveira,  A82066\n",
    "* José Luís Cerqueira Pires, A84552"
   ]
  },
  {
   "cell_type": "markdown",
   "metadata": {},
   "source": [
    "## Trabalho Prático 1"
   ]
  },
  {
   "cell_type": "markdown",
   "metadata": {},
   "source": [
    "Vamos começar por importar as ferramentas necessárias em todo o Notebook."
   ]
  },
  {
   "cell_type": "code",
   "execution_count": 1,
   "metadata": {},
   "outputs": [],
   "source": [
    "from z3 import *\n",
    "import math"
   ]
  },
  {
   "cell_type": "markdown",
   "metadata": {},
   "source": [
    "Vamos usar uma família $r_{p,s,d,h}$ de variáveis binárias (i.e., que assumem valores inteiros $\\{0,1\\}$), com a seguinte semântica\n",
    "\n",
    "$$r_{p,s,d,h} == 1  \\quad \\mbox{se e só se} \\quad \\mbox{o projeto $p$ for alocado à sala $s$, no dia $d$, à hora $h$.}$$\n",
    "\n",
    "e também outra variável binaria tal que:\n",
    "\n",
    "$$y_{p,c,s,d,h} == 1  \\quad \\mbox{se e só se} \\quad \\mbox{o colaborado $c$ do projeto $p$ for alocado à sala $s$, no dia $d$, à hora $h$.}$$"
   ]
  },
  {
   "cell_type": "code",
   "execution_count": 2,
   "metadata": {},
   "outputs": [],
   "source": [
    "horario = Solver()\n",
    "P = 2\n",
    "S = 3\n",
    "C = 3\n",
    "D = 3\n",
    "H = 4"
   ]
  },
  {
   "cell_type": "markdown",
   "metadata": {},
   "source": [
    "Como input iremos usar dois dicionários, \"Pro\" que irá conter os projetos ao qual terá uma lista de colaboradores, o lider , o número de reunioes semanal. O \"Dis\" irá conter todos os colaboradores e uma lista dos dias e horas disponíveis.\n",
    "Além disso iremos usar dois arrays posteriormente preenchidos, um com todos os liders e outro com todos os colaboradores em cada projeto para facilitar a escrita do código ."
   ]
  },
  {
   "cell_type": "code",
   "execution_count": 3,
   "metadata": {},
   "outputs": [],
   "source": [
    "Pro={1:[[1,2],1,2] , 2:[[1,2],2,2]}  #{pojetos:[[colaboradores],lider, n_reunioes semanais]}\n",
    "Dis={1:[(1,1),(1,2),(1,3)],2:[(1,1),(1,2)]}#3:[(2,2),(2,3)]}#,3:[(1,1),(1,3),(2,1)]} #{colaboradores:[(dia disponivel,hora disponivel)]}\n",
    "lideres = [] #lista com os lideres por ordem do numero de projeto -1 isto é. lideres[0] é o lider do projeto 1\n",
    "colaboradores = [] #lista com os colaboradores excetuando o por ordem do numero de projeto -1 isto é. colabores[0] corresponde aos colaboradores do projeto 1"
   ]
  },
  {
   "cell_type": "markdown",
   "metadata": {},
   "source": [
    "Escolhemos alocar duas matrizes , uma com os parâmetros \"r\"[P,S,D,H] e outra \"y\" [P,C,S,D,H].\n",
    "\n",
    "Sendo r[p,s,d,h]==1 sse o projeto p for alocado à sala s, no dia d, à hora h e y[p,c,s,d,h]==1 sse o projeto p com o colaborador c for alocado à sala s, no dia d, à hora h"
   ]
  },
  {
   "cell_type": "code",
   "execution_count": 4,
   "metadata": {},
   "outputs": [],
   "source": [
    "#Matrizes de alocação:\n",
    "r = {}\n",
    "for p in range(1,P+1):\n",
    "    for s in range(1,S+1):\n",
    "        for d in range(1,D+1):\n",
    "            for h in range(1,H+1):\n",
    "                r[p,s,d,h]=Int('r'+'_'+str(p)+'_'+str(s)+'_'+str(d)+'_'+str(h))\n",
    "                horario.add(r[p,s,d,h]<=1,r[p,s,d,h]>=0)\n",
    "                \n",
    "y = {}\n",
    "for p in range(1,P+1):\n",
    "    for c in range(1,C+1):\n",
    "        for s in range(1,S+1):\n",
    "            for d in range(1,D+1):\n",
    "                for h in range(1,H+1):\n",
    "                    y[p,c,s,d,h]=Int('c'+'_'+str(p)+'_'+str(c)+'_'+str(s)+'_'+str(d)+'_'+str(h))\n",
    "                    horario.add(y[p,c,s,d,h]<=1,y[p,c,s,d,h]>=0)\n",
    "\n",
    "for p in range(1,P+1):\n",
    "    lideres.append(Pro[p][1])\n",
    "\n",
    "for p in range(1,P+1):\n",
    "    l = []\n",
    "    for c in Pro[p][0]:\n",
    "        if(c!=Pro[p][1]):\n",
    "            l.append(c)\n",
    "    colaboradores.append(l)\n"
   ]
  },
  {
   "cell_type": "markdown",
   "metadata": {},
   "source": [
    "Cada sala só pode ter no maximo uma reuniao a acontecer:\n",
    "$$\n",
    "\\forall_{1<=s<=S} \\cdot \\quad \\forall_{1<=d<=D} \\cdot \\quad \\forall_{1<=h<=H} \\cdot \\quad (\\sum_{1<=p<=P} r_{p,s,d,h} <= 1)\n",
    "$$"
   ]
  },
  {
   "cell_type": "code",
   "execution_count": 5,
   "metadata": {},
   "outputs": [],
   "source": [
    "#Cada sala só pode ter no maximo uma reuniao a acontecer: \n",
    "for s in range(1,S+1):\n",
    "    for d in range(1,D+1):\n",
    "        for h in range(1,H+1):\n",
    "                horario.add(Sum([r[p,s,d,h] for p in range (1,P+1)])<=1)"
   ]
  },
  {
   "cell_type": "markdown",
   "metadata": {},
   "source": [
    "Em cada dia e cada hora cada projeto é alocado a uma ou nenhuma sala\n",
    "$$\n",
    "\\forall_{1<=d<=D} \\cdot \\quad \\forall_{1<=h<=H} \\cdot \\quad \\forall_{1<=p<=P} \\cdot \\quad (\\sum_{1<=s<=S} r_{p,s,d,h} <= 1)\n",
    "$$\n"
   ]
  },
  {
   "cell_type": "code",
   "execution_count": 6,
   "metadata": {},
   "outputs": [],
   "source": [
    "#Em cada dia e cada hora o projeto é alocado a uma ou nenhuma sala: DONE \n",
    "for d in range(1,D+1):\n",
    "    for h in range(1,H+1):\n",
    "        for p in range(1,P+1):\n",
    "            horario.add(Sum([r[p,s,d,h] for s in range(1,S+1)])<=1)"
   ]
  },
  {
   "cell_type": "markdown",
   "metadata": {},
   "source": [
    "Em cada dia e hora, cada colaborador é alocado a uma ou nenhuma sala Done           \n",
    "$$\n",
    "\\forall_{1<=p<=P} \\cdot \\quad \\forall_{1<=c<=C} \\cdot \\quad \\forall_{(d,h) \\in Dis[c]} \\cdot \\quad (\\sum_{1<=s<=S} y_{p,c,s,d,h} <= 1)\n",
    "$$"
   ]
  },
  {
   "cell_type": "code",
   "execution_count": 7,
   "metadata": {},
   "outputs": [],
   "source": [
    "#Em cada dia e hora, cada colaborador é alocado a uma ou nenhuma sala Done \n",
    "for p in range (1,P+1):\n",
    "    for d in range(1,D+1):\n",
    "        for h in range(1,H+1):\n",
    "            for c in range(1,C+1):\n",
    "                horario.add(Sum([y[p,c,s,d,h] for s in range(1,S+1)])<=1)"
   ]
  },
  {
   "cell_type": "markdown",
   "metadata": {},
   "source": [
    "Em cada dia e hora, cada líder é alocado a uma ou nenhuma sala Done \n",
    "\n",
    "$$\n",
    "\\forall_{1<=p<=P} \\cdot \\quad \\forall_{l \\in lideres[p-1]} \\cdot \\quad \\forall_{(d,h) \\in Dis[l]} \\cdot \\quad (\\sum_{1<=s<=S} y_{p,l,s,d,h} <= 1)\n",
    "$$"
   ]
  },
  {
   "cell_type": "code",
   "execution_count": 8,
   "metadata": {},
   "outputs": [],
   "source": [
    "for p in range (1,P+1):\n",
    "    l = lideres[p-1]\n",
    "    for (d,h) in Dis[l]:\n",
    "        horario.add(Sum([y[p,l,s,d,h] for s in range(1,S+1)])<=1) "
   ]
  },
  {
   "cell_type": "markdown",
   "metadata": {},
   "source": [
    "A reuniao tem de ser em slots disponiveis do lider                 \n",
    "$$\n",
    "\\forall_{1<=p<=P} \\cdot \\quad \\forall_{l \\in lideres[p-1]}\\cdot \\quad (\\sum_{1<=s<=S \\cdot \\quad (d,h) \\in Dis[l]} y_{p,l,s,d,h} == Pro[p][2])\n",
    "$$    "
   ]
  },
  {
   "cell_type": "code",
   "execution_count": 9,
   "metadata": {},
   "outputs": [],
   "source": [
    "# a reuniao tem de ser em slots disponiveis do lider            \n",
    "for p in range(1,P+1):\n",
    "    l = lideres[p-1]\n",
    "    horario.add(Sum([r[p,s,d,h] for s in range(1,S+1) for (d,h) in Dis[l]]) == Pro[p][2])"
   ]
  },
  {
   "cell_type": "markdown",
   "metadata": {},
   "source": [
    "Cada reuniao de projeto apenas pode ser 'N' vezes sendo 'N' o valor de input \n",
    "$$\n",
    "\\forall_{1<=p<=P} \\cdot \\quad (\\sum_{1<=s<=S \\cdot \\quad 1<=d<=D \\cdot \\quad 1<=h<=H} \\cdot \\quad r_{p,s,d,h} == Pro[p][2])\n",
    "$$    "
   ]
  },
  {
   "cell_type": "code",
   "execution_count": 10,
   "metadata": {},
   "outputs": [],
   "source": [
    "for p in range(1,P+1):\n",
    "    horario.add(Sum([r[p,s,d,h] for s in range(1,S+1) for d in range(1,D+1) for h in range (1,H+1)]) == Pro[p][2])"
   ]
  },
  {
   "cell_type": "markdown",
   "metadata": {},
   "source": [
    "Os colaboradores podem ou não ir aos projetos que estão a acontecer no seu horario \n",
    "$$\n",
    "\\forall_{1<=p<=P} \\cdot \\quad \\forall_{c \\in colaboradores[p-1]}\\cdot \\quad (\\sum_{1<=s<=S \\cdot \\quad (d,h) \\in Dis[c]} r_{p,s,d,h} <= Pro[p][2])\n",
    "$$    "
   ]
  },
  {
   "cell_type": "code",
   "execution_count": 11,
   "metadata": {},
   "outputs": [],
   "source": [
    "# os colaboradores podem ou não ir aos projetos que coincidem com o horario deles \n",
    "for p in range(1,P+1):\n",
    "    for c in colaboradores[p-1]:\n",
    "        horario.add(Sum([r[p,s,d,h] for s in range(1,S+1) for (d,h) in Dis[c]]) <= Pro[p][2])"
   ]
  },
  {
   "cell_type": "markdown",
   "metadata": {},
   "source": [
    "O lider participa em todas as reunioes do seu projeto \n",
    "$$\n",
    "\\forall_{1<=s<=S} \\cdot \\quad \\forall_{1<=d<=D} \\cdot \\quad \\forall_{1<=h<=H} \\cdot \\quad \\forall_{1<=p<=P}\\cdot \\quad \\forall_{l \\in lideres[p-1]}\\cdot \\quad (r_{p,s,d,h} == y_{p,l,s,d,h})\n",
    "$$"
   ]
  },
  {
   "cell_type": "code",
   "execution_count": 12,
   "metadata": {},
   "outputs": [],
   "source": [
    "for s in range (1,S+1):\n",
    "    for d in range(1,D+1):\n",
    "        for h in range(1,H+1):\n",
    "            for p in range(1,P+1):\n",
    "                l = lideres[p-1]\n",
    "                horario.add(r[p,s,d,h] == y[p,l,s,d,h])"
   ]
  },
  {
   "cell_type": "markdown",
   "metadata": {},
   "source": [
    "O colaborador pode ou nao participar em reunioes de projetos a qual faz parte \n",
    "$$\n",
    "\\forall_{1<=s<=S} \\cdot \\quad \\forall_{1<=d<=D} \\cdot \\quad \\forall_{1<=h<=H} \\cdot \\quad \\forall_{1<=p<=P}\\cdot \\quad \\forall_{c \\in colaboradores[p-1]}\\cdot \\quad (r_{p,s,d,h} >= y_{p,c,s,d,h})\n",
    "$$"
   ]
  },
  {
   "cell_type": "code",
   "execution_count": 13,
   "metadata": {},
   "outputs": [],
   "source": [
    "for s in range (1,S+1):\n",
    "    for d in range(1,D+1):\n",
    "        for h in range(1,H+1):\n",
    "            for p in range(1,P+1):\n",
    "                for c in colaboradores[p-1]: \n",
    "                    horario.add(r[p,s,d,h] >= y[p,c,s,d,h])"
   ]
  },
  {
   "cell_type": "code",
   "execution_count": 14,
   "metadata": {},
   "outputs": [
    {
     "name": "stdout",
     "output_type": "stream",
     "text": [
      "valido\n",
      "c_2_1_2_1_2 = 1\n",
      "r_2_1_1_1 = 1\n",
      "c_2_2_2_1_2 = 1\n",
      "c_1_1_3_1_3 = 1\n",
      "c_1_1_1_1_2 = 1\n",
      "c_2_2_1_1_1 = 1\n",
      "r_2_2_1_2 = 1\n",
      "r_1_1_1_2 = 1\n",
      "r_1_3_1_3 = 1\n"
     ]
    }
   ],
   "source": [
    "m=horario.check()\n",
    "if (m==sat): \n",
    "    print(\"valido\")\n",
    "    hor = horario.model()\n",
    "    \n",
    "    for d in hor:\n",
    "            if (int(hor[d].as_long())==1):\n",
    "                print(\"%s = %d\" % (d.name(), hor[d].as_long()))\n",
    "else: \n",
    "    print('invalido')"
   ]
  }
 ],
 "metadata": {
  "kernelspec": {
   "display_name": "Python 3",
   "language": "python",
   "name": "python3"
  },
  "language_info": {
   "codemirror_mode": {
    "name": "ipython",
    "version": 3
   },
   "file_extension": ".py",
   "mimetype": "text/x-python",
   "name": "python",
   "nbconvert_exporter": "python",
   "pygments_lexer": "ipython3",
   "version": "3.8.3"
  }
 },
 "nbformat": 4,
 "nbformat_minor": 4
}
